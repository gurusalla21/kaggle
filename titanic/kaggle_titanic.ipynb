{
 "cells": [
  {
   "cell_type": "markdown",
   "metadata": {},
   "source": [
    "## Titanic: Machine Learning from Disaster\n",
    "\n",
    "- about competition: https://www.kaggle.com/c/titanic\n",
    "- data: https://www.kaggle.com/c/titanic/data\n",
    "- leaderboard: https://www.kaggle.com/c/titanic/leaderboard\n",
    "- my best submission: https://www.kaggle.com/c/titanic/leaderboard?submissionId=3355039 77.033% (Voting Ensemble)"
   ]
  },
  {
   "cell_type": "code",
   "execution_count": 1,
   "metadata": {
    "collapsed": true
   },
   "outputs": [],
   "source": [
    "import pandas as pd\n",
    "import numpy as np\n",
    "from sklearn.ensemble import RandomForestClassifier, GradientBoostingClassifier, AdaBoostClassifier, VotingClassifier\n",
    "from sklearn.neighbors import KNeighborsClassifier \n",
    "from sklearn.linear_model import LogisticRegression, LinearRegression\n",
    "from sklearn.svm import SVC\n",
    "from sklearn.feature_selection import RFECV, RFE\n",
    "from sklearn.feature_extraction.text import CountVectorizer\n",
    "from sklearn.cross_validation import cross_val_score\n",
    "from sklearn.metrics import f1_score\n",
    "import matplotlib.pyplot as plt\n",
    "\n",
    "%matplotlib inline"
   ]
  },
  {
   "cell_type": "markdown",
   "metadata": {},
   "source": [
    "Get Data"
   ]
  },
  {
   "cell_type": "code",
   "execution_count": 2,
   "metadata": {
    "collapsed": false
   },
   "outputs": [
    {
     "name": "stdout",
     "output_type": "stream",
     "text": [
      "<class 'pandas.core.frame.DataFrame'>\n",
      "RangeIndex: 891 entries, 0 to 890\n",
      "Data columns (total 12 columns):\n",
      "PassengerId    891 non-null int64\n",
      "Survived       891 non-null int64\n",
      "Pclass         891 non-null int64\n",
      "Name           891 non-null object\n",
      "Sex            891 non-null object\n",
      "Age            714 non-null float64\n",
      "SibSp          891 non-null int64\n",
      "Parch          891 non-null int64\n",
      "Ticket         891 non-null object\n",
      "Fare           891 non-null float64\n",
      "Cabin          204 non-null object\n",
      "Embarked       889 non-null object\n",
      "dtypes: float64(2), int64(5), object(5)\n",
      "memory usage: 83.6+ KB\n",
      "None\n"
     ]
    },
    {
     "data": {
      "text/html": [
       "<div>\n",
       "<table border=\"1\" class=\"dataframe\">\n",
       "  <thead>\n",
       "    <tr style=\"text-align: right;\">\n",
       "      <th></th>\n",
       "      <th>PassengerId</th>\n",
       "      <th>Survived</th>\n",
       "      <th>Pclass</th>\n",
       "      <th>Name</th>\n",
       "      <th>Sex</th>\n",
       "      <th>Age</th>\n",
       "      <th>SibSp</th>\n",
       "      <th>Parch</th>\n",
       "      <th>Ticket</th>\n",
       "      <th>Fare</th>\n",
       "      <th>Cabin</th>\n",
       "      <th>Embarked</th>\n",
       "    </tr>\n",
       "  </thead>\n",
       "  <tbody>\n",
       "    <tr>\n",
       "      <th>0</th>\n",
       "      <td>1</td>\n",
       "      <td>0</td>\n",
       "      <td>3</td>\n",
       "      <td>Braund, Mr. Owen Harris</td>\n",
       "      <td>male</td>\n",
       "      <td>22.0</td>\n",
       "      <td>1</td>\n",
       "      <td>0</td>\n",
       "      <td>A/5 21171</td>\n",
       "      <td>7.2500</td>\n",
       "      <td>NaN</td>\n",
       "      <td>S</td>\n",
       "    </tr>\n",
       "    <tr>\n",
       "      <th>1</th>\n",
       "      <td>2</td>\n",
       "      <td>1</td>\n",
       "      <td>1</td>\n",
       "      <td>Cumings, Mrs. John Bradley (Florence Briggs Th...</td>\n",
       "      <td>female</td>\n",
       "      <td>38.0</td>\n",
       "      <td>1</td>\n",
       "      <td>0</td>\n",
       "      <td>PC 17599</td>\n",
       "      <td>71.2833</td>\n",
       "      <td>C85</td>\n",
       "      <td>C</td>\n",
       "    </tr>\n",
       "    <tr>\n",
       "      <th>2</th>\n",
       "      <td>3</td>\n",
       "      <td>1</td>\n",
       "      <td>3</td>\n",
       "      <td>Heikkinen, Miss. Laina</td>\n",
       "      <td>female</td>\n",
       "      <td>26.0</td>\n",
       "      <td>0</td>\n",
       "      <td>0</td>\n",
       "      <td>STON/O2. 3101282</td>\n",
       "      <td>7.9250</td>\n",
       "      <td>NaN</td>\n",
       "      <td>S</td>\n",
       "    </tr>\n",
       "    <tr>\n",
       "      <th>3</th>\n",
       "      <td>4</td>\n",
       "      <td>1</td>\n",
       "      <td>1</td>\n",
       "      <td>Futrelle, Mrs. Jacques Heath (Lily May Peel)</td>\n",
       "      <td>female</td>\n",
       "      <td>35.0</td>\n",
       "      <td>1</td>\n",
       "      <td>0</td>\n",
       "      <td>113803</td>\n",
       "      <td>53.1000</td>\n",
       "      <td>C123</td>\n",
       "      <td>S</td>\n",
       "    </tr>\n",
       "    <tr>\n",
       "      <th>4</th>\n",
       "      <td>5</td>\n",
       "      <td>0</td>\n",
       "      <td>3</td>\n",
       "      <td>Allen, Mr. William Henry</td>\n",
       "      <td>male</td>\n",
       "      <td>35.0</td>\n",
       "      <td>0</td>\n",
       "      <td>0</td>\n",
       "      <td>373450</td>\n",
       "      <td>8.0500</td>\n",
       "      <td>NaN</td>\n",
       "      <td>S</td>\n",
       "    </tr>\n",
       "  </tbody>\n",
       "</table>\n",
       "</div>"
      ],
      "text/plain": [
       "   PassengerId  Survived  Pclass  \\\n",
       "0            1         0       3   \n",
       "1            2         1       1   \n",
       "2            3         1       3   \n",
       "3            4         1       1   \n",
       "4            5         0       3   \n",
       "\n",
       "                                                Name     Sex   Age  SibSp  \\\n",
       "0                            Braund, Mr. Owen Harris    male  22.0      1   \n",
       "1  Cumings, Mrs. John Bradley (Florence Briggs Th...  female  38.0      1   \n",
       "2                             Heikkinen, Miss. Laina  female  26.0      0   \n",
       "3       Futrelle, Mrs. Jacques Heath (Lily May Peel)  female  35.0      1   \n",
       "4                           Allen, Mr. William Henry    male  35.0      0   \n",
       "\n",
       "   Parch            Ticket     Fare Cabin Embarked  \n",
       "0      0         A/5 21171   7.2500   NaN        S  \n",
       "1      0          PC 17599  71.2833   C85        C  \n",
       "2      0  STON/O2. 3101282   7.9250   NaN        S  \n",
       "3      0            113803  53.1000  C123        S  \n",
       "4      0            373450   8.0500   NaN        S  "
      ]
     },
     "execution_count": 2,
     "metadata": {},
     "output_type": "execute_result"
    }
   ],
   "source": [
    "df_train_src = pd.read_csv('data/train.csv')\n",
    "df_test_src = pd.read_csv('data/test.csv')\n",
    "\n",
    "print df_train_src.info()\n",
    "df_train_src.head()"
   ]
  },
  {
   "cell_type": "code",
   "execution_count": 3,
   "metadata": {
    "collapsed": false
   },
   "outputs": [
    {
     "name": "stdout",
     "output_type": "stream",
     "text": [
      "<class 'pandas.core.frame.DataFrame'>\n",
      "RangeIndex: 418 entries, 0 to 417\n",
      "Data columns (total 11 columns):\n",
      "PassengerId    418 non-null int64\n",
      "Pclass         418 non-null int64\n",
      "Name           418 non-null object\n",
      "Sex            418 non-null object\n",
      "Age            332 non-null float64\n",
      "SibSp          418 non-null int64\n",
      "Parch          418 non-null int64\n",
      "Ticket         418 non-null object\n",
      "Fare           417 non-null float64\n",
      "Cabin          91 non-null object\n",
      "Embarked       418 non-null object\n",
      "dtypes: float64(2), int64(4), object(5)\n",
      "memory usage: 36.0+ KB\n"
     ]
    }
   ],
   "source": [
    "df_test_src.info()"
   ]
  },
  {
   "cell_type": "markdown",
   "metadata": {},
   "source": [
    "Cleaning and feature engineering"
   ]
  },
  {
   "cell_type": "code",
   "execution_count": 4,
   "metadata": {
    "collapsed": false
   },
   "outputs": [],
   "source": [
    "titles = {\n",
    "            \"Capt\":       \"Officer\",\n",
    "            \"Col\":        \"Officer\",\n",
    "            \"Major\":      \"Officer\",\n",
    "            \"Jonkheer\":   \"Royalty\",\n",
    "            \"Don\":        \"Royalty\",\n",
    "            \"Sir\" :       \"Royalty\",\n",
    "            \"Dr\":         \"Officer\",\n",
    "            \"Rev\":        \"Officer\", \n",
    "            \"the Countess\":\"Royalty\",\n",
    "            \"Dona\":       \"Royalty\",\n",
    "            \"Mme\":        \"Mrs\",\n",
    "            \"Mlle\":       \"Miss\",\n",
    "            \"Ms\":         \"Mrs\",\n",
    "            \"Mr\" :        \"Mr\",\n",
    "            \"Mrs\" :       \"Mrs\",\n",
    "            \"Miss\" :      \"Miss\",\n",
    "            \"Master\" :    \"Master\",\n",
    "            \"Lady\" :      \"Royalty\",\n",
    "            }\n",
    "\n",
    "def one_hot(df, colname, vocabulary):\n",
    "    cnt_vectorizer = CountVectorizer(vocabulary=vocabulary, token_pattern='\\\\w+', lowercase=False)\n",
    "    data = cnt_vectorizer.fit_transform(df.pop(colname).map(\n",
    "        lambda x: str(x) if str(x) in vocabulary else 'other'))\n",
    "    colnames = [colname + '_' + x for x in vocabulary]\n",
    "    df = pd.concat([\n",
    "        df.reset_index(drop=True),\n",
    "        pd.DataFrame(data.toarray(), columns=colnames).reset_index(drop=True)],\n",
    "        axis=1, join='inner')\n",
    "    return df\n",
    "\n",
    "def feature_eng(df):\n",
    "    tit = df.copy(deep=True)\n",
    "    \n",
    "    # Existing features\n",
    "    # Pclass: one hot\n",
    "    tit = one_hot(tit, 'Pclass', ['1', '2', '3'])\n",
    "    # Sex: one hot\n",
    "    tit['Sex'] = (tit['Sex'] == 'female')\n",
    "    # Age: leave as is, will predict later\n",
    "    tit['Age'] = df['Age']\n",
    "    # Fare: NaN to mean - only one missing in test\n",
    "    tit['Fare'] = df['Fare'].fillna(df['Fare'].mean())\n",
    "    # Cabin: one hot of first letter\n",
    "    tit['Cabin'] = tit['Cabin'].map(lambda x: '0' if pd.isnull(x) else x[0])\n",
    "    tit = one_hot(tit, 'Cabin', ['A', 'B', 'C', 'D', 'E', 'F', 'G', 'T'])\n",
    "    # Embarked: one hot\n",
    "    tit = one_hot(tit, 'Embarked', ['C', 'Q', 'S'])\n",
    "    \n",
    "    # Add new features\n",
    "    # Title: build and one hot encode\n",
    "    tit['Title'] = tit['Name'].apply(lambda x: titles[x.split(',')[1].split('.')[0].strip()])\n",
    "    tit = one_hot(tit, 'Title', set(titles.values()))\n",
    "    # Family size\n",
    "    tit['FamilySize'] = df['SibSp'] + df['Parch']\n",
    "    # Is adult\n",
    "    tit['IsAdult'] = tit['Age'].map(lambda x: 1 if x > 18 else 0)\n",
    "    # Is mother: female, not child, has children\n",
    "    tit['IsMother'] = tit['Sex'] & tit['IsAdult'] & (tit['Parch'] > 0)\n",
    "\n",
    "    tit.drop(['PassengerId', 'Ticket', 'Name', 'SibSp', 'Parch'], axis=1, inplace=True)\n",
    "\n",
    "    return(tit)\n",
    "\n",
    "def predict_age(model, df, train):\n",
    "    df = df.copy(deep=True)\n",
    "    if train:\n",
    "        df.pop('Survived')\n",
    "        y_train = df[df['Age'].notnull()]['Age']\n",
    "        X_train = df[df['Age'].notnull()]\n",
    "        X_train.pop('Age')\n",
    "        model.fit(X_train, y_train)\n",
    "    \n",
    "    X_test = df[df['Age'].isnull()]\n",
    "    X_test.pop('Age')\n",
    "    return model.predict(X_test)\n",
    "\n",
    "model = LinearRegression()\n",
    "\n",
    "df_train = feature_eng(df_train_src)\n",
    "df_train.loc[df_train['Age'].isnull(),'Age'] = predict_age(model, df_train, train=True)\n",
    "\n",
    "df_test = feature_eng(df_test_src)\n",
    "df_test.loc[df_test['Age'].isnull(),'Age'] = predict_age(model, df_test, train=False)"
   ]
  },
  {
   "cell_type": "code",
   "execution_count": 5,
   "metadata": {
    "collapsed": false
   },
   "outputs": [],
   "source": [
    "y = df_train.pop('Survived').values\n",
    "X_all = df_train"
   ]
  },
  {
   "cell_type": "code",
   "execution_count": 6,
   "metadata": {
    "collapsed": false
   },
   "outputs": [
    {
     "data": {
      "text/html": [
       "<div>\n",
       "<table border=\"1\" class=\"dataframe\">\n",
       "  <thead>\n",
       "    <tr style=\"text-align: right;\">\n",
       "      <th></th>\n",
       "      <th>0</th>\n",
       "      <th>1</th>\n",
       "      <th>2</th>\n",
       "    </tr>\n",
       "  </thead>\n",
       "  <tbody>\n",
       "    <tr>\n",
       "      <th>Sex</th>\n",
       "      <td>False</td>\n",
       "      <td>True</td>\n",
       "      <td>True</td>\n",
       "    </tr>\n",
       "    <tr>\n",
       "      <th>Age</th>\n",
       "      <td>22</td>\n",
       "      <td>38</td>\n",
       "      <td>26</td>\n",
       "    </tr>\n",
       "    <tr>\n",
       "      <th>Fare</th>\n",
       "      <td>7.25</td>\n",
       "      <td>71.2833</td>\n",
       "      <td>7.925</td>\n",
       "    </tr>\n",
       "    <tr>\n",
       "      <th>Pclass_1</th>\n",
       "      <td>0</td>\n",
       "      <td>1</td>\n",
       "      <td>0</td>\n",
       "    </tr>\n",
       "    <tr>\n",
       "      <th>Pclass_2</th>\n",
       "      <td>0</td>\n",
       "      <td>0</td>\n",
       "      <td>0</td>\n",
       "    </tr>\n",
       "    <tr>\n",
       "      <th>Pclass_3</th>\n",
       "      <td>1</td>\n",
       "      <td>0</td>\n",
       "      <td>1</td>\n",
       "    </tr>\n",
       "    <tr>\n",
       "      <th>Cabin_A</th>\n",
       "      <td>0</td>\n",
       "      <td>0</td>\n",
       "      <td>0</td>\n",
       "    </tr>\n",
       "    <tr>\n",
       "      <th>Cabin_B</th>\n",
       "      <td>0</td>\n",
       "      <td>0</td>\n",
       "      <td>0</td>\n",
       "    </tr>\n",
       "    <tr>\n",
       "      <th>Cabin_C</th>\n",
       "      <td>0</td>\n",
       "      <td>1</td>\n",
       "      <td>0</td>\n",
       "    </tr>\n",
       "    <tr>\n",
       "      <th>Cabin_D</th>\n",
       "      <td>0</td>\n",
       "      <td>0</td>\n",
       "      <td>0</td>\n",
       "    </tr>\n",
       "    <tr>\n",
       "      <th>Cabin_E</th>\n",
       "      <td>0</td>\n",
       "      <td>0</td>\n",
       "      <td>0</td>\n",
       "    </tr>\n",
       "    <tr>\n",
       "      <th>Cabin_F</th>\n",
       "      <td>0</td>\n",
       "      <td>0</td>\n",
       "      <td>0</td>\n",
       "    </tr>\n",
       "    <tr>\n",
       "      <th>Cabin_G</th>\n",
       "      <td>0</td>\n",
       "      <td>0</td>\n",
       "      <td>0</td>\n",
       "    </tr>\n",
       "    <tr>\n",
       "      <th>Cabin_T</th>\n",
       "      <td>0</td>\n",
       "      <td>0</td>\n",
       "      <td>0</td>\n",
       "    </tr>\n",
       "    <tr>\n",
       "      <th>Embarked_C</th>\n",
       "      <td>0</td>\n",
       "      <td>1</td>\n",
       "      <td>0</td>\n",
       "    </tr>\n",
       "    <tr>\n",
       "      <th>Embarked_Q</th>\n",
       "      <td>0</td>\n",
       "      <td>0</td>\n",
       "      <td>0</td>\n",
       "    </tr>\n",
       "    <tr>\n",
       "      <th>Embarked_S</th>\n",
       "      <td>1</td>\n",
       "      <td>0</td>\n",
       "      <td>1</td>\n",
       "    </tr>\n",
       "    <tr>\n",
       "      <th>Title_Mrs</th>\n",
       "      <td>0</td>\n",
       "      <td>0</td>\n",
       "      <td>0</td>\n",
       "    </tr>\n",
       "    <tr>\n",
       "      <th>Title_Royalty</th>\n",
       "      <td>0</td>\n",
       "      <td>0</td>\n",
       "      <td>1</td>\n",
       "    </tr>\n",
       "    <tr>\n",
       "      <th>Title_Master</th>\n",
       "      <td>1</td>\n",
       "      <td>0</td>\n",
       "      <td>0</td>\n",
       "    </tr>\n",
       "    <tr>\n",
       "      <th>Title_Officer</th>\n",
       "      <td>0</td>\n",
       "      <td>1</td>\n",
       "      <td>0</td>\n",
       "    </tr>\n",
       "    <tr>\n",
       "      <th>Title_Mr</th>\n",
       "      <td>0</td>\n",
       "      <td>0</td>\n",
       "      <td>0</td>\n",
       "    </tr>\n",
       "    <tr>\n",
       "      <th>Title_Miss</th>\n",
       "      <td>0</td>\n",
       "      <td>0</td>\n",
       "      <td>0</td>\n",
       "    </tr>\n",
       "    <tr>\n",
       "      <th>FamilySize</th>\n",
       "      <td>1</td>\n",
       "      <td>1</td>\n",
       "      <td>0</td>\n",
       "    </tr>\n",
       "    <tr>\n",
       "      <th>IsAdult</th>\n",
       "      <td>1</td>\n",
       "      <td>1</td>\n",
       "      <td>1</td>\n",
       "    </tr>\n",
       "    <tr>\n",
       "      <th>IsMother</th>\n",
       "      <td>False</td>\n",
       "      <td>False</td>\n",
       "      <td>False</td>\n",
       "    </tr>\n",
       "  </tbody>\n",
       "</table>\n",
       "</div>"
      ],
      "text/plain": [
       "                   0        1      2\n",
       "Sex            False     True   True\n",
       "Age               22       38     26\n",
       "Fare            7.25  71.2833  7.925\n",
       "Pclass_1           0        1      0\n",
       "Pclass_2           0        0      0\n",
       "Pclass_3           1        0      1\n",
       "Cabin_A            0        0      0\n",
       "Cabin_B            0        0      0\n",
       "Cabin_C            0        1      0\n",
       "Cabin_D            0        0      0\n",
       "Cabin_E            0        0      0\n",
       "Cabin_F            0        0      0\n",
       "Cabin_G            0        0      0\n",
       "Cabin_T            0        0      0\n",
       "Embarked_C         0        1      0\n",
       "Embarked_Q         0        0      0\n",
       "Embarked_S         1        0      1\n",
       "Title_Mrs          0        0      0\n",
       "Title_Royalty      0        0      1\n",
       "Title_Master       1        0      0\n",
       "Title_Officer      0        1      0\n",
       "Title_Mr           0        0      0\n",
       "Title_Miss         0        0      0\n",
       "FamilySize         1        1      0\n",
       "IsAdult            1        1      1\n",
       "IsMother       False    False  False"
      ]
     },
     "execution_count": 6,
     "metadata": {},
     "output_type": "execute_result"
    }
   ],
   "source": [
    "X_all.head(3).T"
   ]
  },
  {
   "cell_type": "markdown",
   "metadata": {},
   "source": [
    "Feature selection"
   ]
  },
  {
   "cell_type": "code",
   "execution_count": 7,
   "metadata": {
    "collapsed": false
   },
   "outputs": [
    {
     "data": {
      "text/plain": [
       "<matplotlib.text.Text at 0x1183e3450>"
      ]
     },
     "execution_count": 7,
     "metadata": {},
     "output_type": "execute_result"
    },
    {
     "data": {
      "image/png": "[encoded data removed]",
      "text/plain": [
       "<matplotlib.figure.Figure at 0x118441390>"
      ]
     },
     "metadata": {},
     "output_type": "display_data"
    }
   ],
   "source": [
    "rfecv = RFECV(estimator=RandomForestClassifier(n_estimators=50, random_state=42), \n",
    "                 cv=5, scoring='accuracy')\n",
    "\n",
    "rfecv.fit(X_all, y)\n",
    "\n",
    "plt.plot(range(1, len(rfecv.grid_scores_)+1), rfecv.grid_scores_, 'o-')\n",
    "plt.title('Accuracy depending on number of features')\n",
    "plt.xlabel('Number of features')\n",
    "plt.ylabel('Accuracy')"
   ]
  },
  {
   "cell_type": "code",
   "execution_count": 8,
   "metadata": {
    "collapsed": false
   },
   "outputs": [
    {
     "data": {
      "text/plain": [
       "Index([u'Sex', u'Age', u'Fare', u'Pclass_3', u'Title_Master', u'FamilySize'], dtype='object')"
      ]
     },
     "execution_count": 8,
     "metadata": {},
     "output_type": "execute_result"
    }
   ],
   "source": [
    "rfe = RFE(estimator=RandomForestClassifier(n_estimators=50, random_state=42), n_features_to_select=6)\n",
    "rfe.fit(X_all, y)\n",
    "\n",
    "X = X_all.loc[:, X_all.columns[rfe.ranking_ == 1].values]\n",
    "X_test = df_test.loc[:, df_test.columns[rfe.ranking_ == 1].values]\n",
    "\n",
    "X.columns"
   ]
  },
  {
   "cell_type": "markdown",
   "metadata": {},
   "source": [
    "Try few different models"
   ]
  },
  {
   "cell_type": "code",
   "execution_count": 9,
   "metadata": {
    "collapsed": false
   },
   "outputs": [
    {
     "name": "stdout",
     "output_type": "stream",
     "text": [
      "Logistic Regression  (0.8092) +/- (0.0130)\n",
      "KNN                  (0.7026) +/- (0.0326)\n",
      "SVC                  (0.7059) +/- (0.0206)\n",
      "Random Forest        (0.8036) +/- (0.0307)\n",
      "Ada boost            (0.8114) +/- (0.0334)\n",
      "Gradient boost       (0.8227) +/- (0.0229)\n"
     ]
    }
   ],
   "source": [
    "rf = RandomForestClassifier(n_estimators=200, random_state=42)\n",
    "gb = GradientBoostingClassifier(n_estimators=200, random_state=42)\n",
    "ada = AdaBoostClassifier(n_estimators=300, random_state=42)\n",
    "knn = KNeighborsClassifier(n_neighbors=8)\n",
    "svm = SVC(probability=True)\n",
    "lr = LogisticRegression()\n",
    "\n",
    "estimators = [\n",
    "    ('Logistic Regression', lr),\n",
    "    ('KNN', knn),\n",
    "    ('SVC', svm),\n",
    "    ('Random Forest', rf),\n",
    "    ('Ada boost', ada),\n",
    "    ('Gradient boost', gb),\n",
    "]\n",
    "\n",
    "for name, model in estimators:\n",
    "    result = cross_val_score(model, X, y, scoring = 'accuracy')\n",
    "    print(\"{0:<20} ({1:.4f}) +/- ({2:.4f})\".format(name, result.mean(), result.std()))"
   ]
  },
  {
   "cell_type": "code",
   "execution_count": 10,
   "metadata": {
    "collapsed": false
   },
   "outputs": [
    {
     "name": "stdout",
     "output_type": "stream",
     "text": [
      "Logistic Regression score: 0.7447\n",
      "KNN score: 0.6601\n",
      "SVC score: 0.8800\n",
      "Random Forest score: 0.9808\n",
      "Ada boost score: 0.8113\n",
      "Gradient boost score: 0.9024\n"
     ]
    }
   ],
   "source": [
    "for name, model in estimators:\n",
    "    model.fit(X, y)\n",
    "    y_pred = model.predict(X)\n",
    "    print('{} score: {:.4f}'.format(name, f1_score(y, y_pred)))"
   ]
  },
  {
   "cell_type": "markdown",
   "metadata": {},
   "source": [
    "Build voting ensemble out of the best perfoming models"
   ]
  },
  {
   "cell_type": "code",
   "execution_count": 11,
   "metadata": {
    "collapsed": false
   },
   "outputs": [
    {
     "name": "stdout",
     "output_type": "stream",
     "text": [
      "(0.8395) +/- (0.0151)\n"
     ]
    }
   ],
   "source": [
    "voters = [\n",
    "    ('Logistic Regression', lr),\n",
    "#    ('KNN', knn),\n",
    "#    ('SVC', svm),\n",
    "    ('Random Forest', rf),\n",
    "    ('Ada boost', ada),\n",
    "    ('Gradient boost', gb),\n",
    "]\n",
    "\n",
    "voting_ensemble = VotingClassifier(voters, voting='soft')\n",
    "\n",
    "results = cross_val_score(voting_ensemble, X, y)\n",
    "print(\"({0:.4}) +/- ({1:.4f})\".format(results.mean(), results.std()))"
   ]
  },
  {
   "cell_type": "markdown",
   "metadata": {},
   "source": [
    "Submission"
   ]
  },
  {
   "cell_type": "code",
   "execution_count": 12,
   "metadata": {
    "collapsed": false
   },
   "outputs": [],
   "source": [
    "voting_ensemble.fit(X, y)\n",
    "submission = pd.DataFrame({\n",
    "        'PassengerId': df_test_src['PassengerId'],\n",
    "        'Survived': voting_ensemble.predict(X_test.values)\n",
    "    })\n",
    "submission.to_csv('submissions/submission_20160821_1917_vote.csv', index=False)"
   ]
  },
  {
   "cell_type": "code",
   "execution_count": null,
   "metadata": {
    "collapsed": true
   },
   "outputs": [],
   "source": []
  }
 ],
 "metadata": {
  "kernelspec": {
   "display_name": "Python 2",
   "language": "python",
   "name": "python2"
  },
  "language_info": {
   "codemirror_mode": {
    "name": "ipython",
    "version": 2
   },
   "file_extension": ".py",
   "mimetype": "text/x-python",
   "name": "python",
   "nbconvert_exporter": "python",
   "pygments_lexer": "ipython2",
   "version": "2.7.12"
  }
 },
 "nbformat": 4,
 "nbformat_minor": 0
}
